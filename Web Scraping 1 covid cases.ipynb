{
 "cells": [
  {
   "cell_type": "code",
   "execution_count": 1,
   "id": "a0790ef6",
   "metadata": {
    "scrolled": false
   },
   "outputs": [
    {
     "name": "stdout",
     "output_type": "stream",
     "text": [
      "Collecting bs4\n",
      "  Downloading bs4-0.0.1.tar.gz (1.1 kB)\n",
      "Requirement already satisfied: beautifulsoup4 in c:\\users\\dell\\anaconda3\\lib\\site-packages (from bs4) (4.10.0)\n",
      "Requirement already satisfied: soupsieve>1.2 in c:\\users\\dell\\anaconda3\\lib\\site-packages (from beautifulsoup4->bs4) (2.2.1)\n",
      "Building wheels for collected packages: bs4\n",
      "  Building wheel for bs4 (setup.py): started\n",
      "  Building wheel for bs4 (setup.py): finished with status 'done'\n",
      "  Created wheel for bs4: filename=bs4-0.0.1-py3-none-any.whl size=1271 sha256=c5d1fb24810a802690fe605f870a7445904e9d80628f186d6dfac7b4554a5357\n",
      "  Stored in directory: c:\\users\\dell\\appdata\\local\\pip\\cache\\wheels\\73\\2b\\cb\\099980278a0c9a3e57ff1a89875ec07bfa0b6fcbebb9a8cad3\n",
      "Successfully built bs4\n",
      "Note: you may need to restart the kernel to use updated packages.\n",
      "Installing collected packages: bs4\n",
      "Successfully installed bs4-0.0.1\n"
     ]
    }
   ],
   "source": [
    "pip install bs4\n",
    "pip install win10toast\n",
    "pip install urllib.request"
   ]
  },
  {
   "cell_type": "code",
   "execution_count": 2,
   "id": "b0e957db",
   "metadata": {},
   "outputs": [],
   "source": [
    "from bs4 import BeautifulSoup as bs\n",
    "from win10toast import ToastNotifier\n",
    "from urllib.request import urlopen, Request"
   ]
  },
  {
   "cell_type": "code",
   "execution_count": 11,
   "id": "c57a2d7b",
   "metadata": {},
   "outputs": [
    {
     "data": {
      "text/plain": [
       "<urllib.request.Request at 0x241d3d9e700>"
      ]
     },
     "execution_count": 11,
     "metadata": {},
     "output_type": "execute_result"
    }
   ],
   "source": [
    "#header = {'User-Agent': 'Mozilla/5.0 (Windows NT 10.0; Win64; x64) AppleWebKit/537.36 (KHTML, like Gecko) Chrome/104.0.0.0 Safari/537.36'}\n",
    "header = {'User-Agent': 'Mozilla'}\n",
    "request= Request(\"https://www.worldometers.info/coronavirus/country/india/\", headers= header)\n",
    "request"
   ]
  },
  {
   "cell_type": "code",
   "execution_count": 12,
   "id": "fc542480",
   "metadata": {},
   "outputs": [],
   "source": [
    "html=urlopen(request)"
   ]
  },
  {
   "cell_type": "code",
   "execution_count": 13,
   "id": "3b61f3e8",
   "metadata": {},
   "outputs": [],
   "source": [
    "#html.readlines()"
   ]
  },
  {
   "cell_type": "code",
   "execution_count": 14,
   "id": "1aa9fbcf",
   "metadata": {},
   "outputs": [],
   "source": [
    "#to get clear file\n",
    "soup = bs(html, 'html.parser')\n",
    "#parser gives tree like structure"
   ]
  },
  {
   "cell_type": "code",
   "execution_count": 15,
   "id": "909cad05",
   "metadata": {},
   "outputs": [
    {
     "data": {
      "text/plain": [
       "'20,551'"
      ]
     },
     "execution_count": 15,
     "metadata": {},
     "output_type": "execute_result"
    }
   ],
   "source": [
    "new_cases = soup.find(\"li\",{\"class\":\"news_li\"}).strong.text.split()[0]\n",
    "new_cases"
   ]
  },
  {
   "cell_type": "code",
   "execution_count": 16,
   "id": "9b893a89",
   "metadata": {},
   "outputs": [
    {
     "data": {
      "text/plain": [
       "'70'"
      ]
     },
     "execution_count": 16,
     "metadata": {},
     "output_type": "execute_result"
    }
   ],
   "source": [
    "death= list(soup.find(\"li\",{\"class\":\"news_li\"}).strong.next_siblings)[1].text.split()[0]\n",
    "death"
   ]
  },
  {
   "cell_type": "code",
   "execution_count": 17,
   "id": "c3867bb9",
   "metadata": {},
   "outputs": [
    {
     "data": {
      "text/plain": [
       "'Today new cases in india: 20,551\\nTodays deaths: 70'"
      ]
     },
     "execution_count": 17,
     "metadata": {},
     "output_type": "execute_result"
    }
   ],
   "source": [
    "messege= \"Today new cases in india: \" +new_cases+ \"\\nTodays deaths: \"+ death\n",
    "messege"
   ]
  },
  {
   "cell_type": "code",
   "execution_count": 18,
   "id": "b2fcc681",
   "metadata": {},
   "outputs": [
    {
     "data": {
      "text/plain": [
       "True"
      ]
     },
     "execution_count": 18,
     "metadata": {},
     "output_type": "execute_result"
    }
   ],
   "source": [
    "#now how to get this in notification\n",
    "\n",
    "ToastNotifier().show_toast(title=\"Covid india update\", msg=messege, duration=10 )"
   ]
  },
  {
   "cell_type": "code",
   "execution_count": null,
   "id": "13b71934",
   "metadata": {},
   "outputs": [],
   "source": []
  }
 ],
 "metadata": {
  "kernelspec": {
   "display_name": "Python 3 (ipykernel)",
   "language": "python",
   "name": "python3"
  },
  "language_info": {
   "codemirror_mode": {
    "name": "ipython",
    "version": 3
   },
   "file_extension": ".py",
   "mimetype": "text/x-python",
   "name": "python",
   "nbconvert_exporter": "python",
   "pygments_lexer": "ipython3",
   "version": "3.9.7"
  }
 },
 "nbformat": 4,
 "nbformat_minor": 5
}
